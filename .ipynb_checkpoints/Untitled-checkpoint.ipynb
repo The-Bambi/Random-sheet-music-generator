{
 "cells": [
  {
   "cell_type": "code",
   "execution_count": 119,
   "metadata": {},
   "outputs": [],
   "source": [
    "from numpy.random import normal\n",
    "from random import choice\n",
    "from random import randrange, random\n",
    "from subprocess import run\n",
    "\n",
    "class Note:\n",
    "    \n",
    "    def __init__(self, start = 0, octave = 0):\n",
    "        self.scale = ['c','d','e','f','g','a','b']\n",
    "        self.current = start\n",
    "        self.octave = octave\n",
    "        \n",
    "    def to_string(self):\n",
    "        note = self.scale[self.current]\n",
    "        octave_mark = ''\n",
    "        if self.octave > 0:\n",
    "            octave_mark = \"'\" * self.octave\n",
    "        if self.octave < 0:\n",
    "            octave_mark = \",\" * abs(self.octave)\n",
    "        return str(self.scale[self.current]+octave_mark)\n",
    "    \n",
    "    def __add__(self, other):\n",
    "        return self.jump(other)\n",
    "        \n",
    "    def __sub__(self, other):\n",
    "        return self.jump(-1*other)\n",
    "        \n",
    "    def jump(self, steps):\n",
    "        self.current += steps\n",
    "        self.octave += self.current//7\n",
    "        self.current %= 7\n",
    "        return Note(self.current, self.octave)\n",
    "        \n",
    "    def relative(self, relative_to):\n",
    "        return self.current + relative_to * 7\n",
    "    \n",
    "    def absolute(self, base = 0):\n",
    "        return self.current+self.octave*7\n",
    "        \n",
    "class Instrument:\n",
    "    def __init__(self, bot = -3, top = 30, name = 'violin'):\n",
    "        self.variance = 2\n",
    "        self.bottom_border = bot\n",
    "        self.up_border = top\n",
    "        self.start_octave = 1\n",
    "        self.current = Note(octave = self.start_octave)\n",
    "        self.jumps = []\n",
    "        self.notes = []\n",
    "        \n",
    "    def gen_one(self, offset = False):\n",
    "        down_offset = False\n",
    "        up_offset = False\n",
    "        if not offset:\n",
    "            offset = round(normal(scale=self.variance))\n",
    "        \n",
    "        \n",
    "        while offset == 0: # take random offset until value is different from 0 - we don't want multiple notes one after another with the same pitch\n",
    "            offset = round(normal(scale=self.variance))\n",
    "        \n",
    "        print(f\"{self.current.to_string()}, {offset}\")\n",
    "        \n",
    "        while self.current.absolute() + offset < self.bottom_border: #tu jest coś zjebane bo nie ogranicza ani w górę ani w dół\n",
    "            print(\"{} is too low, jumping by {}\".format(offset, offset+6))\n",
    "            offset += 6\n",
    "        while self.current.absolute() + offset > self.up_border:\n",
    "            print(\"{} is too high, jumping by {}\".format(offset, offset-6))\n",
    "            offset -= 6\n",
    "        \n",
    "    \n",
    "        self.current = self.current + offset\n",
    "        \n",
    "        self.jumps.append(offset)\n",
    "        self.notes.append(self.current)\n",
    "    \n",
    "    \n",
    "    def gen_n(self, n):\n",
    "        for i in range(n):\n",
    "            self.gen_one()\n",
    "            \n",
    "    def to_file(self, name = 'test.ly'):\n",
    "        strings = [x.to_string() for x in self.notes]\n",
    "        \n",
    "        file = open(name,'w')\n",
    "        file.write(\"fixed c'{\\n\")\n",
    "        file.write(' '.join(strings))\n",
    "        file.write(\"\\n}\")\n",
    "        file.close()\n",
    "        \n",
    "        #run(\"./save.sh\")"
   ]
  },
  {
   "cell_type": "code",
   "execution_count": 123,
   "metadata": {},
   "outputs": [],
   "source": [
    "a = Instrument()"
   ]
  },
  {
   "cell_type": "code",
   "execution_count": 121,
   "metadata": {},
   "outputs": [],
   "source": [
    "a.to_file()"
   ]
  },
  {
   "cell_type": "code",
   "execution_count": 124,
   "metadata": {},
   "outputs": [
    {
     "name": "stdout",
     "output_type": "stream",
     "text": [
      "c', 1\n",
      "d', -1\n",
      "c', 1\n",
      "d', -4\n",
      "g, -2\n",
      "e, -6\n",
      "-6 is too low, jumping by 0\n",
      "e, 4\n",
      "b, 1\n",
      "c', -1\n",
      "b, -3\n",
      "f, 2\n",
      "a, -3\n",
      "e, -2\n",
      "c, -2\n",
      "a,, -1\n",
      "g,, 3\n",
      "c, 1\n",
      "d, 1\n",
      "e, 3\n",
      "a, 1\n",
      "b, 1\n",
      "c', -2\n",
      "a, 3\n",
      "d', 3\n",
      "g', -1\n",
      "f', -1\n",
      "e', -1\n",
      "d', 2\n",
      "f', -2\n",
      "d', -1\n",
      "c', -3\n",
      "g, 3\n",
      "c', -1\n",
      "b, -1\n",
      "a, 2\n",
      "c', 1\n",
      "d', 1\n",
      "e', -3\n",
      "b, -1\n",
      "a, -1\n",
      "g, 1\n",
      "a, 1\n",
      "b, 4\n",
      "f', 5\n",
      "d'', -1\n",
      "c'', -1\n",
      "b', -2\n",
      "g', 1\n",
      "a', -4\n",
      "d', -1\n",
      "c', 3\n",
      "f', 5\n",
      "d'', -2\n",
      "b', 1\n",
      "c'', 1\n",
      "d'', -2\n",
      "b', 1\n",
      "c'', 4\n",
      "g'', -2\n",
      "e'', -1\n",
      "d'', 3\n",
      "g'', 1\n",
      "a'', -2\n",
      "f'', 4\n",
      "c''', 1\n",
      "d''', -1\n",
      "c''', 1\n",
      "d''', 3\n",
      "g''', -2\n",
      "e''', -2\n",
      "c''', -2\n",
      "a'', -2\n",
      "f'', 3\n",
      "b'', -4\n",
      "e'', 2\n",
      "g'', 2\n",
      "b'', -2\n",
      "g'', 4\n",
      "d''', 1\n",
      "e''', 2\n",
      "g''', 2\n",
      "b''', 3\n",
      "e'''', -1\n",
      "d'''', 2\n",
      "2 is too high, jumping by -4\n",
      "g''', -1\n",
      "f''', -1\n",
      "e''', -2\n",
      "c''', -2\n",
      "a'', -4\n",
      "d'', 3\n",
      "g'', 2\n",
      "b'', 1\n",
      "c''', -1\n",
      "b'', -4\n",
      "e'', 1\n",
      "f'', -3\n",
      "c'', 1\n",
      "d'', -2\n",
      "b', 3\n",
      "e'', 5\n"
     ]
    }
   ],
   "source": [
    "a.gen_n(100)\n",
    "a.to_file()"
   ]
  },
  {
   "cell_type": "code",
   "execution_count": 79,
   "metadata": {},
   "outputs": [
    {
     "data": {
      "text/plain": [
       "[2,\n",
       " -3,\n",
       " 2,\n",
       " -2,\n",
       " 1,\n",
       " 5,\n",
       " -1,\n",
       " -1,\n",
       " -1,\n",
       " -3,\n",
       " -3,\n",
       " -1,\n",
       " 2,\n",
       " 1,\n",
       " 2,\n",
       " -3,\n",
       " -2,\n",
       " -2,\n",
       " 1,\n",
       " -2,\n",
       " 1,\n",
       " -2,\n",
       " -2,\n",
       " -2,\n",
       " 2,\n",
       " 1,\n",
       " -2,\n",
       " 2,\n",
       " 1,\n",
       " 1,\n",
       " -3,\n",
       " 1,\n",
       " 1,\n",
       " -3,\n",
       " 5,\n",
       " -2,\n",
       " 4,\n",
       " -2,\n",
       " -1,\n",
       " -1,\n",
       " -2,\n",
       " -3,\n",
       " 5,\n",
       " -2,\n",
       " 2,\n",
       " -3,\n",
       " 1,\n",
       " -3,\n",
       " -1,\n",
       " 2,\n",
       " 1,\n",
       " 4,\n",
       " 2,\n",
       " 3,\n",
       " 3,\n",
       " -3,\n",
       " -1,\n",
       " 2,\n",
       " -2,\n",
       " 2,\n",
       " 1,\n",
       " 1,\n",
       " -4,\n",
       " -2,\n",
       " 2,\n",
       " 2,\n",
       " -3,\n",
       " 3,\n",
       " -2,\n",
       " 5,\n",
       " 1,\n",
       " 3,\n",
       " 1,\n",
       " -2,\n",
       " 1,\n",
       " 2,\n",
       " -2,\n",
       " -1,\n",
       " -2,\n",
       " 2,\n",
       " -2,\n",
       " -2,\n",
       " 2,\n",
       " -2,\n",
       " 2,\n",
       " -2,\n",
       " 1,\n",
       " -4,\n",
       " -1,\n",
       " -1,\n",
       " -2,\n",
       " 2,\n",
       " 1,\n",
       " 1,\n",
       " 4,\n",
       " 1,\n",
       " 4,\n",
       " 4,\n",
       " -4,\n",
       " 1]"
      ]
     },
     "execution_count": 79,
     "metadata": {},
     "output_type": "execute_result"
    }
   ],
   "source": [
    "a.jumps"
   ]
  },
  {
   "cell_type": "code",
   "execution_count": 64,
   "metadata": {},
   "outputs": [],
   "source": []
  },
  {
   "cell_type": "code",
   "execution_count": 390,
   "metadata": {},
   "outputs": [],
   "source": [
    "a.jump(2)"
   ]
  },
  {
   "cell_type": "code",
   "execution_count": 398,
   "metadata": {},
   "outputs": [],
   "source": [
    "a - 5"
   ]
  },
  {
   "cell_type": "code",
   "execution_count": 399,
   "metadata": {},
   "outputs": [
    {
     "data": {
      "text/plain": [
       "('f,,,', -3)"
      ]
     },
     "execution_count": 399,
     "metadata": {},
     "output_type": "execute_result"
    }
   ],
   "source": [
    "a,a.octave"
   ]
  },
  {
   "cell_type": "code",
   "execution_count": 400,
   "metadata": {},
   "outputs": [
    {
     "data": {
      "text/plain": [
       "\"'f,,,'\""
      ]
     },
     "execution_count": 400,
     "metadata": {},
     "output_type": "execute_result"
    }
   ],
   "source": [
    "repr(a)"
   ]
  },
  {
   "cell_type": "code",
   "execution_count": 344,
   "metadata": {},
   "outputs": [],
   "source": [
    "# Losowy rytm:\n",
    "# -losowo przydziel nutom wartości z predefiniowanych grup (4 ósemki, 2 ósemki, ćwierćnuta, ćwierćnuta z kropką + ósemka, półnuta itd)\n",
    "# -idąc od początku powkładaj wartości do taktów\n",
    "# -utnij to co zostało do pełnego taktu\n",
    "# -yeeepeee mamy losową melodię\n",
    "\n",
    "# Długoterminowo:\n",
    "# Zakodować pusty dokument, powkładać melodię, poskładać 4 w partyturę"
   ]
  },
  {
   "cell_type": "code",
   "execution_count": 18,
   "metadata": {},
   "outputs": [
    {
     "ename": "SyntaxError",
     "evalue": "'literal' is an illegal expression for augmented assignment (1346868411.py, line 1)",
     "output_type": "error",
     "traceback": [
      "\u001b[1;36m  Input \u001b[1;32mIn [18]\u001b[1;36m\u001b[0m\n\u001b[1;33m    5 %= 1\u001b[0m\n\u001b[1;37m    ^\u001b[0m\n\u001b[1;31mSyntaxError\u001b[0m\u001b[1;31m:\u001b[0m 'literal' is an illegal expression for augmented assignment\n"
     ]
    }
   ],
   "source": [
    "5 %= 1"
   ]
  },
  {
   "cell_type": "code",
   "execution_count": 27,
   "metadata": {},
   "outputs": [],
   "source": [
    "x=7"
   ]
  },
  {
   "cell_type": "code",
   "execution_count": 28,
   "metadata": {},
   "outputs": [],
   "source": [
    "x%=4"
   ]
  },
  {
   "cell_type": "code",
   "execution_count": 22,
   "metadata": {},
   "outputs": [],
   "source": [
    "x%=3"
   ]
  },
  {
   "cell_type": "code",
   "execution_count": 29,
   "metadata": {},
   "outputs": [
    {
     "data": {
      "text/plain": [
       "3"
      ]
     },
     "execution_count": 29,
     "metadata": {},
     "output_type": "execute_result"
    }
   ],
   "source": [
    "x"
   ]
  },
  {
   "cell_type": "code",
   "execution_count": null,
   "metadata": {},
   "outputs": [],
   "source": []
  }
 ],
 "metadata": {
  "kernelspec": {
   "display_name": "Python 3 (ipykernel)",
   "language": "python",
   "name": "python3"
  },
  "language_info": {
   "codemirror_mode": {
    "name": "ipython",
    "version": 3
   },
   "file_extension": ".py",
   "mimetype": "text/x-python",
   "name": "python",
   "nbconvert_exporter": "python",
   "pygments_lexer": "ipython3",
   "version": "3.9.6"
  }
 },
 "nbformat": 4,
 "nbformat_minor": 4
}
