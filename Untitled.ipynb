{
 "cells": [
  {
   "cell_type": "code",
   "execution_count": 140,
   "metadata": {},
   "outputs": [],
   "source": [
    "from numpy.random import normal\n",
    "from random import choice\n",
    "from random import randrange\n",
    "from subprocess import run\n",
    "\n",
    "\n",
    "class testscale:\n",
    "    def __init__(self):\n",
    "        self.variance = 2\n",
    "        self.current = 0\n",
    "        self.up_chance = 2\n",
    "        self.down_chance = 2\n",
    "        self.scale = ['c','d','e','f','g','a','b']\n",
    "        self.jumps = []\n",
    "        #self.scale = ['-'+str(x) for x in scale_basic] + scale_basic + ['+'+str(x) for x in scale_basic]\n",
    "        self.notes = []\n",
    "\n",
    "    def gen_one(self):\n",
    "        down_offset = False\n",
    "        up_offset = False\n",
    "        random_offset = round(normal(scale=self.variance))\n",
    "        \n",
    "        while random_offset == 0: # take random offset until value is different from 0 - we don't want multiple notes one after another with the same pitch\n",
    "            random_offset = round(normal(scale=self.variance))\n",
    "            \n",
    "        if random_offset > 3: # if we go up, take a random chance whether to make a big jump down instead\n",
    "            if randrange(10) <= self.down_chance:\n",
    "                down_offset = True\n",
    "                up_offset = False\n",
    "                self.up_chance += 1 # increase the chance for jumping back up next time\n",
    "                self.down_chance = 2\n",
    "        if random_offset < -3: # opposite - if we go down, random chance to make a big jump up instead\n",
    "            if randrange(10) <= self.up_chance:\n",
    "                down_offset = False\n",
    "                up_offset = True\n",
    "                self.up_chance = 2\n",
    "                self.down_chance += 1 # increase the chance for jumping back down next time\n",
    "        \n",
    "        self.current += random_offset\n",
    "        \n",
    "        self.jumps.append(random_offset)\n",
    "        \n",
    "        if self.current < 0:\n",
    "            self.current += 6\n",
    "            \n",
    "        if self.current > 6:\n",
    "            self.current -= 6\n",
    "        \n",
    "        note = self.scale[self.current]\n",
    "        if up_offset: note += \"'\"\n",
    "        if down_offset: note += ','\n",
    "        \n",
    "        self.notes.append(note)\n",
    "        \n",
    "    \n",
    "    def gen_n(self, n):\n",
    "        for i in range(n):\n",
    "            self.gen_one()\n",
    "            \n",
    "    def to_file(self, name = 'test.ly'):\n",
    "        file = open(name,'w')\n",
    "        file.write(\"\\\\relative c' {\\n\")\n",
    "        file.write(' '.join(self.notes))\n",
    "        file.write(\"\\n}\")\n",
    "        file.close()\n",
    "        \n",
    "        run(\"./save.sh\")"
   ]
  },
  {
   "cell_type": "code",
   "execution_count": 141,
   "metadata": {},
   "outputs": [],
   "source": [
    "a = testscale()"
   ]
  },
  {
   "cell_type": "code",
   "execution_count": 142,
   "metadata": {},
   "outputs": [],
   "source": [
    "a.gen_n(50)"
   ]
  },
  {
   "cell_type": "code",
   "execution_count": 143,
   "metadata": {},
   "outputs": [
    {
     "data": {
      "text/plain": [
       "['a',\n",
       " 'g',\n",
       " 'f',\n",
       " 'g',\n",
       " 'f',\n",
       " 'a',\n",
       " 'g',\n",
       " 'e',\n",
       " 'a',\n",
       " 'e',\n",
       " 'f',\n",
       " 'e',\n",
       " 'c',\n",
       " 'd',\n",
       " 'a',\n",
       " 'e',\n",
       " 'd',\n",
       " 'e',\n",
       " 'c',\n",
       " 'd',\n",
       " 'c',\n",
       " 'a',\n",
       " 'd',\n",
       " 'c',\n",
       " 'g',\n",
       " 'a',\n",
       " 'g',\n",
       " 'f',\n",
       " 'e',\n",
       " 'f',\n",
       " 'g',\n",
       " 'a',\n",
       " 'e',\n",
       " 'e',\n",
       " 'f',\n",
       " 'e',\n",
       " 'f',\n",
       " 'a',\n",
       " 'f',\n",
       " 'a',\n",
       " 'f',\n",
       " 'e',\n",
       " 'b',\n",
       " 'a',\n",
       " 'g',\n",
       " 'f',\n",
       " 'g',\n",
       " 'e',\n",
       " 'c',\n",
       " 'g,']"
      ]
     },
     "execution_count": 143,
     "metadata": {},
     "output_type": "execute_result"
    }
   ],
   "source": [
    "a.notes"
   ]
  },
  {
   "cell_type": "code",
   "execution_count": 144,
   "metadata": {},
   "outputs": [],
   "source": [
    "a.to_file()"
   ]
  },
  {
   "cell_type": "code",
   "execution_count": 145,
   "metadata": {},
   "outputs": [
    {
     "data": {
      "text/plain": [
       "[-1,\n",
       " -1,\n",
       " -1,\n",
       " 1,\n",
       " -1,\n",
       " 2,\n",
       " -1,\n",
       " -2,\n",
       " 3,\n",
       " -3,\n",
       " 1,\n",
       " -1,\n",
       " -2,\n",
       " 1,\n",
       " -2,\n",
       " -3,\n",
       " -1,\n",
       " 1,\n",
       " -2,\n",
       " 1,\n",
       " -1,\n",
       " -1,\n",
       " 2,\n",
       " -1,\n",
       " -2,\n",
       " -5,\n",
       " -1,\n",
       " -1,\n",
       " -1,\n",
       " 1,\n",
       " 1,\n",
       " 1,\n",
       " 3,\n",
       " 6,\n",
       " 1,\n",
       " -1,\n",
       " 1,\n",
       " 2,\n",
       " -2,\n",
       " 2,\n",
       " -2,\n",
       " -1,\n",
       " 4,\n",
       " -1,\n",
       " -1,\n",
       " -1,\n",
       " 1,\n",
       " 4,\n",
       " -2,\n",
       " 4]"
      ]
     },
     "execution_count": 145,
     "metadata": {},
     "output_type": "execute_result"
    }
   ],
   "source": [
    "a.jumps"
   ]
  },
  {
   "cell_type": "code",
   "execution_count": null,
   "metadata": {},
   "outputs": [],
   "source": []
  },
  {
   "cell_type": "code",
   "execution_count": null,
   "metadata": {},
   "outputs": [],
   "source": []
  },
  {
   "cell_type": "code",
   "execution_count": null,
   "metadata": {},
   "outputs": [],
   "source": [
    "# Losowy rytm:\n",
    "# -losowo przydziel nutom wartości z predefiniowanych grup (4 ósemki, 2 ósemki, ćwierćnuta, ćwierćnuta z kropką + ósemka, półnuta itd)\n",
    "# -idąc od początku powkładaj wartości do taktów\n",
    "# -utnij to co zostało do pełnego taktu\n",
    "# -yeeepeee mamy losową melodię\n",
    "\n",
    "# Długoterminowo:\n",
    "# Zakodować pusty dokument, powkładać melodię, poskładać 4 w partyturę"
   ]
  }
 ],
 "metadata": {
  "kernelspec": {
   "display_name": "Python 3",
   "language": "python",
   "name": "python3"
  },
  "language_info": {
   "codemirror_mode": {
    "name": "ipython",
    "version": 3
   },
   "file_extension": ".py",
   "mimetype": "text/x-python",
   "name": "python",
   "nbconvert_exporter": "python",
   "pygments_lexer": "ipython3",
   "version": "3.6.8"
  }
 },
 "nbformat": 4,
 "nbformat_minor": 2
}
