{
 "cells": [
  {
   "cell_type": "code",
   "execution_count": 84,
   "metadata": {},
   "outputs": [],
   "source": [
    "from numpy.random import normal\n",
    "\n",
    "class testscale:\n",
    "    def __init__(self):\n",
    "        self.loc = 13 \n",
    "        scale_basic = ['c','d','e','f','g','a','b']\n",
    "        self.scale = ['-'+str(x) for x in scale_basic] + scale_basic + ['+'+str(x) for x in scale_basic]\n",
    "        self.notes = []\n",
    "\n",
    "    def gen_one(self):\n",
    "        self.notes.append(self.scale[self.loc])\n",
    "        random_index = round(normal(self.loc, 2))\n",
    "        while random_index > 20 or random_index < 0 or random_index == self.loc:\n",
    "            random_index = round(normal(self.loc, 2))\n",
    "        # print(random)\n",
    "        self.loc = random_index\n",
    "    \n",
    "    def gen_n(self, n):\n",
    "        for i in range(n):\n",
    "            self.gen_one()"
   ]
  },
  {
   "cell_type": "code",
   "execution_count": 85,
   "metadata": {},
   "outputs": [],
   "source": [
    "a = testscale()"
   ]
  },
  {
   "cell_type": "code",
   "execution_count": 86,
   "metadata": {},
   "outputs": [],
   "source": [
    "a.gen_n(50)"
   ]
  },
  {
   "cell_type": "code",
   "execution_count": 87,
   "metadata": {},
   "outputs": [
    {
     "data": {
      "text/plain": [
       "['b',\n",
       " 'c',\n",
       " 'f',\n",
       " 'g',\n",
       " 'e',\n",
       " 'f',\n",
       " 'd',\n",
       " 'e',\n",
       " 'd',\n",
       " 'f',\n",
       " 'g',\n",
       " 'a',\n",
       " 'b',\n",
       " 'a',\n",
       " 'b',\n",
       " '+d',\n",
       " 'b',\n",
       " 'g',\n",
       " 'b',\n",
       " '+c',\n",
       " '+d',\n",
       " 'g',\n",
       " 'a',\n",
       " '+c',\n",
       " '+d',\n",
       " 'b',\n",
       " '+f',\n",
       " '+g',\n",
       " '+d',\n",
       " '+c',\n",
       " 'a',\n",
       " 'f',\n",
       " 'a',\n",
       " 'b',\n",
       " 'g',\n",
       " 'e',\n",
       " 'g',\n",
       " 'b',\n",
       " '+c',\n",
       " 'b',\n",
       " '+c',\n",
       " '+d',\n",
       " '+g',\n",
       " '+c',\n",
       " 'b',\n",
       " '+e',\n",
       " '+f',\n",
       " '+g',\n",
       " '+d',\n",
       " 'a']"
      ]
     },
     "execution_count": 87,
     "metadata": {},
     "output_type": "execute_result"
    }
   ],
   "source": [
    "a.notes"
   ]
  },
  {
   "cell_type": "code",
   "execution_count": null,
   "metadata": {},
   "outputs": [],
   "source": [
    "# Losowy rytm:\n",
    "# -losowo przydziel nutom wartości z predefiniowanych grup (4 ósemki, 2 ósemki, ćwierćnuta, ćwierćnuta z kropką + ósemka, półnuta itd)\n",
    "# -idąc od początku powkładaj wartości do taktów\n",
    "# -utnij to co zostało do pełnego taktu\n",
    "# -yeeepeee mamy losową melodię\n",
    "\n",
    "# Długoterminowo:\n",
    "# Zakodować pusty dokument, powkładać melodię, poskładać 4 w partyturę"
   ]
  }
 ],
 "metadata": {
  "kernelspec": {
   "display_name": "Python 3",
   "language": "python",
   "name": "python3"
  },
  "language_info": {
   "codemirror_mode": {
    "name": "ipython",
    "version": 3
   },
   "file_extension": ".py",
   "mimetype": "text/x-python",
   "name": "python",
   "nbconvert_exporter": "python",
   "pygments_lexer": "ipython3",
   "version": "3.6.8"
  }
 },
 "nbformat": 4,
 "nbformat_minor": 2
}
