{
 "cells": [
  {
   "cell_type": "code",
   "execution_count": 435,
   "metadata": {},
   "outputs": [],
   "source": [
    "from numpy.random import normal\n",
    "from random import choice\n",
    "from random import randrange, random\n",
    "from subprocess import run\n",
    "\n",
    "class Note:\n",
    "    \n",
    "    def __init__(self, start = 0, octave = 0):\n",
    "        self.scale = ['c','d','e','f','g','a','b']\n",
    "        self.current = start\n",
    "        self.octave = octave\n",
    "        \n",
    "    def to_string(self):\n",
    "        note = self.scale[self.current]\n",
    "        octave_mark = ''\n",
    "        if self.octave > 0:\n",
    "            octave_mark = \"'\" * self.octave\n",
    "        if self.octave < 0:\n",
    "            octave_mark = \",\" * abs(self.octave)\n",
    "        return str(self.scale[self.current]+octave_mark)\n",
    "    \n",
    "    def __add__(self, other):\n",
    "        self.jump(other)\n",
    "        \n",
    "    def __sub__(self, other):\n",
    "        self.jump(-1*other)\n",
    "        \n",
    "    def jump(self, steps):\n",
    "        self.current += steps\n",
    "        self.octave += self.current//7\n",
    "        self.current %= 7\n",
    "        \n",
    "    def relative(self, relative_to):\n",
    "        return self.current + relative_to * 7\n",
    "        \n",
    "class Instrument:\n",
    "    def __init__(self, bot = -4, top = 32, name = 'violin'):\n",
    "        self.variance = 2\n",
    "        self.bottom_border = bot\n",
    "        self.up_border = top\n",
    "        self.start_octave = 1\n",
    "        self.current = Note(octave = self.start_octave)\n",
    "        self.jumps = []\n",
    "        self.notes = []\n",
    "        \n",
    "    def gen_one(self):\n",
    "        down_offset = False\n",
    "        up_offset = False\n",
    "        random_offset = round(normal(scale=self.variance))\n",
    "        \n",
    "        while random_offset == 0: # take random offset until value is different from 0 - we don't want multiple notes one after another with the same pitch\n",
    "            random_offset = round(normal(scale=self.variance))\n",
    "\n",
    "        if self.current.relative(self.start_octave) + random_offset < self.bottom_border:\n",
    "            print(\"{} is too low, jumping by {}\".format(random_offset, random_offset+6))\n",
    "            random_offset += 6\n",
    "        if self.current.relative(self.start_octave) + random_offset > self.up_border:\n",
    "            print(\"{} is too low, jumping by {}\".format(random_offset, random_offset-6))\n",
    "            random_offset -= 6\n",
    "        \n",
    "    \n",
    "        self.current + random_offset\n",
    "        \n",
    "        self.jumps.append(random_offset)\n",
    "        self.notes.append(self.current.to_string())\n",
    "    \n",
    "    \n",
    "    def gen_n(self, n):\n",
    "        for i in range(n):\n",
    "            self.gen_one()\n",
    "            \n",
    "    def to_file(self, name = 'test.ly'):\n",
    "        file = open(name,'w')\n",
    "        file.write(\"{\\n\")\n",
    "        file.write(' '.join(self.notes))\n",
    "        file.write(\"\\n}\")\n",
    "        file.close()\n",
    "        \n",
    "        run(\"./save.sh\")"
   ]
  },
  {
   "cell_type": "code",
   "execution_count": 436,
   "metadata": {},
   "outputs": [],
   "source": [
    "a = Instrument()"
   ]
  },
  {
   "cell_type": "code",
   "execution_count": 437,
   "metadata": {},
   "outputs": [],
   "source": [
    "a.gen_n(50)"
   ]
  },
  {
   "cell_type": "code",
   "execution_count": 438,
   "metadata": {},
   "outputs": [],
   "source": [
    "a.to_file()"
   ]
  },
  {
   "cell_type": "code",
   "execution_count": 245,
   "metadata": {},
   "outputs": [
    {
     "data": {
      "text/plain": [
       "-1"
      ]
     },
     "execution_count": 245,
     "metadata": {},
     "output_type": "execute_result"
    }
   ],
   "source": [
    "-1//6"
   ]
  },
  {
   "cell_type": "code",
   "execution_count": 389,
   "metadata": {},
   "outputs": [],
   "source": [
    "a = Note()"
   ]
  },
  {
   "cell_type": "code",
   "execution_count": 390,
   "metadata": {},
   "outputs": [],
   "source": [
    "a.jump(2)"
   ]
  },
  {
   "cell_type": "code",
   "execution_count": 398,
   "metadata": {},
   "outputs": [],
   "source": [
    "a - 5"
   ]
  },
  {
   "cell_type": "code",
   "execution_count": 399,
   "metadata": {},
   "outputs": [
    {
     "data": {
      "text/plain": [
       "('f,,,', -3)"
      ]
     },
     "execution_count": 399,
     "metadata": {},
     "output_type": "execute_result"
    }
   ],
   "source": [
    "a,a.octave"
   ]
  },
  {
   "cell_type": "code",
   "execution_count": 400,
   "metadata": {},
   "outputs": [
    {
     "data": {
      "text/plain": [
       "\"'f,,,'\""
      ]
     },
     "execution_count": 400,
     "metadata": {},
     "output_type": "execute_result"
    }
   ],
   "source": [
    "repr(a)"
   ]
  },
  {
   "cell_type": "code",
   "execution_count": 344,
   "metadata": {},
   "outputs": [],
   "source": [
    "# Losowy rytm:\n",
    "# -losowo przydziel nutom wartości z predefiniowanych grup (4 ósemki, 2 ósemki, ćwierćnuta, ćwierćnuta z kropką + ósemka, półnuta itd)\n",
    "# -idąc od początku powkładaj wartości do taktów\n",
    "# -utnij to co zostało do pełnego taktu\n",
    "# -yeeepeee mamy losową melodię\n",
    "\n",
    "# Długoterminowo:\n",
    "# Zakodować pusty dokument, powkładać melodię, poskładać 4 w partyturę"
   ]
  },
  {
   "cell_type": "code",
   "execution_count": null,
   "metadata": {},
   "outputs": [],
   "source": []
  }
 ],
 "metadata": {
  "kernelspec": {
   "display_name": "Python 3",
   "language": "python",
   "name": "python3"
  },
  "language_info": {
   "codemirror_mode": {
    "name": "ipython",
    "version": 3
   },
   "file_extension": ".py",
   "mimetype": "text/x-python",
   "name": "python",
   "nbconvert_exporter": "python",
   "pygments_lexer": "ipython3",
   "version": "3.6.8"
  }
 },
 "nbformat": 4,
 "nbformat_minor": 2
}
